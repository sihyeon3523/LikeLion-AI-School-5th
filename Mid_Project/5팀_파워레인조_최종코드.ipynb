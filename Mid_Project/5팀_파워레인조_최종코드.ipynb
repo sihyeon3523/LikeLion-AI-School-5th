{
 "cells": [
  {
   "cell_type": "code",
   "execution_count": 21,
   "id": "22a6f694",
   "metadata": {
    "ExecuteTime": {
     "end_time": "2022-04-25T01:23:59.261051Z",
     "start_time": "2022-04-25T01:23:59.249083Z"
    }
   },
   "outputs": [],
   "source": [
    "import pandas as pd\n",
    "import numpy as np\n",
    "import matplotlib.pyplot as plt\n",
    "import seaborn as sns\n",
    "import warnings\n",
    "warnings.filterwarnings('ignore')\n",
    "import matplotlib.pyplot as plt\n",
    "plt.rc(\"font\", family=\"Malgun Gothic\")\n",
    "plt.rc(\"axes\", unicode_minus = False)\n",
    "import re\n",
    "import joblib\n",
    "\n",
    "from collections import Counter\n",
    "\n",
    "from konlpy.tag import Okt,Mecab\n",
    "from sklearn.feature_extraction.text import TfidfVectorizer, CountVectorizer\n",
    "from sklearn.model_selection import train_test_split\n",
    "from sklearn.model_selection import StratifiedKFold\n",
    "from sklearn.metrics import accuracy_score,f1_score, recall_score, precision_score\n",
    "from sklearn.model_selection import GridSearchCV\n",
    "from sklearn.pipeline import Pipeline\n",
    "from sklearn.svm import LinearSVC\n",
    "from lightgbm import LGBMClassifier\n",
    "from xgboost import XGBClassifier\n",
    "from sklearn.linear_model import LogisticRegression"
   ]
  },
  {
   "cell_type": "markdown",
   "id": "215db649",
   "metadata": {},
   "source": [
    "## 데이터 불러오기"
   ]
  },
  {
   "cell_type": "code",
   "execution_count": 2,
   "id": "166f457f",
   "metadata": {
    "ExecuteTime": {
     "end_time": "2022-04-25T00:42:09.290832Z",
     "start_time": "2022-04-25T00:42:09.019533Z"
    }
   },
   "outputs": [],
   "source": [
    "train = pd.read_csv('./data/train_data.csv')\n",
    "test = pd.read_csv('./data/test_data.csv')\n",
    "df_topic = pd.read_csv('./data/topic_dict.csv')"
   ]
  },
  {
   "cell_type": "code",
   "execution_count": 3,
   "id": "6cc3ed73",
   "metadata": {
    "ExecuteTime": {
     "end_time": "2022-04-25T00:42:18.463025Z",
     "start_time": "2022-04-25T00:42:18.440121Z"
    }
   },
   "outputs": [
    {
     "data": {
      "text/html": [
       "<div>\n",
       "<style scoped>\n",
       "    .dataframe tbody tr th:only-of-type {\n",
       "        vertical-align: middle;\n",
       "    }\n",
       "\n",
       "    .dataframe tbody tr th {\n",
       "        vertical-align: top;\n",
       "    }\n",
       "\n",
       "    .dataframe thead th {\n",
       "        text-align: right;\n",
       "    }\n",
       "</style>\n",
       "<table border=\"1\" class=\"dataframe\">\n",
       "  <thead>\n",
       "    <tr style=\"text-align: right;\">\n",
       "      <th></th>\n",
       "      <th>index</th>\n",
       "      <th>title</th>\n",
       "      <th>topic_idx</th>\n",
       "    </tr>\n",
       "  </thead>\n",
       "  <tbody>\n",
       "    <tr>\n",
       "      <th>0</th>\n",
       "      <td>0</td>\n",
       "      <td>인천→핀란드 항공기 결항…휴가철 여행객 분통</td>\n",
       "      <td>4</td>\n",
       "    </tr>\n",
       "    <tr>\n",
       "      <th>1</th>\n",
       "      <td>1</td>\n",
       "      <td>실리콘밸리 넘어서겠다…구글 15조원 들여 美전역 거점화</td>\n",
       "      <td>4</td>\n",
       "    </tr>\n",
       "    <tr>\n",
       "      <th>2</th>\n",
       "      <td>2</td>\n",
       "      <td>이란 외무 긴장완화 해결책은 미국이 경제전쟁 멈추는 것</td>\n",
       "      <td>4</td>\n",
       "    </tr>\n",
       "    <tr>\n",
       "      <th>3</th>\n",
       "      <td>3</td>\n",
       "      <td>NYT 클린턴 측근韓기업 특수관계 조명…공과 사 맞물려종합</td>\n",
       "      <td>4</td>\n",
       "    </tr>\n",
       "    <tr>\n",
       "      <th>4</th>\n",
       "      <td>4</td>\n",
       "      <td>시진핑 트럼프에 중미 무역협상 조속 타결 희망</td>\n",
       "      <td>4</td>\n",
       "    </tr>\n",
       "  </tbody>\n",
       "</table>\n",
       "</div>"
      ],
      "text/plain": [
       "   index                             title  topic_idx\n",
       "0      0          인천→핀란드 항공기 결항…휴가철 여행객 분통          4\n",
       "1      1    실리콘밸리 넘어서겠다…구글 15조원 들여 美전역 거점화          4\n",
       "2      2    이란 외무 긴장완화 해결책은 미국이 경제전쟁 멈추는 것          4\n",
       "3      3  NYT 클린턴 측근韓기업 특수관계 조명…공과 사 맞물려종합          4\n",
       "4      4         시진핑 트럼프에 중미 무역협상 조속 타결 희망          4"
      ]
     },
     "execution_count": 3,
     "metadata": {},
     "output_type": "execute_result"
    }
   ],
   "source": [
    "train.head()"
   ]
  },
  {
   "cell_type": "code",
   "execution_count": 4,
   "id": "a741f070",
   "metadata": {
    "ExecuteTime": {
     "end_time": "2022-04-25T00:42:27.292437Z",
     "start_time": "2022-04-25T00:42:27.272587Z"
    }
   },
   "outputs": [
    {
     "data": {
      "text/html": [
       "<div>\n",
       "<style scoped>\n",
       "    .dataframe tbody tr th:only-of-type {\n",
       "        vertical-align: middle;\n",
       "    }\n",
       "\n",
       "    .dataframe tbody tr th {\n",
       "        vertical-align: top;\n",
       "    }\n",
       "\n",
       "    .dataframe thead th {\n",
       "        text-align: right;\n",
       "    }\n",
       "</style>\n",
       "<table border=\"1\" class=\"dataframe\">\n",
       "  <thead>\n",
       "    <tr style=\"text-align: right;\">\n",
       "      <th></th>\n",
       "      <th>topic</th>\n",
       "      <th>topic_idx</th>\n",
       "    </tr>\n",
       "  </thead>\n",
       "  <tbody>\n",
       "    <tr>\n",
       "      <th>0</th>\n",
       "      <td>IT과학</td>\n",
       "      <td>0</td>\n",
       "    </tr>\n",
       "    <tr>\n",
       "      <th>1</th>\n",
       "      <td>경제</td>\n",
       "      <td>1</td>\n",
       "    </tr>\n",
       "    <tr>\n",
       "      <th>2</th>\n",
       "      <td>사회</td>\n",
       "      <td>2</td>\n",
       "    </tr>\n",
       "    <tr>\n",
       "      <th>3</th>\n",
       "      <td>생활문화</td>\n",
       "      <td>3</td>\n",
       "    </tr>\n",
       "    <tr>\n",
       "      <th>4</th>\n",
       "      <td>세계</td>\n",
       "      <td>4</td>\n",
       "    </tr>\n",
       "    <tr>\n",
       "      <th>5</th>\n",
       "      <td>스포츠</td>\n",
       "      <td>5</td>\n",
       "    </tr>\n",
       "    <tr>\n",
       "      <th>6</th>\n",
       "      <td>정치</td>\n",
       "      <td>6</td>\n",
       "    </tr>\n",
       "  </tbody>\n",
       "</table>\n",
       "</div>"
      ],
      "text/plain": [
       "  topic  topic_idx\n",
       "0  IT과학          0\n",
       "1    경제          1\n",
       "2    사회          2\n",
       "3  생활문화          3\n",
       "4    세계          4\n",
       "5   스포츠          5\n",
       "6    정치          6"
      ]
     },
     "execution_count": 4,
     "metadata": {},
     "output_type": "execute_result"
    }
   ],
   "source": [
    "df_topic"
   ]
  },
  {
   "cell_type": "markdown",
   "id": "94c03fa1",
   "metadata": {},
   "source": [
    "## EDA"
   ]
  },
  {
   "cell_type": "code",
   "execution_count": 46,
   "id": "281ecb59",
   "metadata": {
    "ExecuteTime": {
     "end_time": "2022-04-25T01:47:08.533742Z",
     "start_time": "2022-04-25T01:47:08.315362Z"
    },
    "scrolled": true
   },
   "outputs": [],
   "source": [
    "train2 = pd.read_csv('./data/train_data.csv')\n",
    "train2 = train2.merge(df_topic, on = \"topic_idx\", how = \"left\") "
   ]
  },
  {
   "cell_type": "code",
   "execution_count": 49,
   "id": "b96f7be3",
   "metadata": {
    "ExecuteTime": {
     "end_time": "2022-04-25T01:47:19.044184Z",
     "start_time": "2022-04-25T01:47:18.768033Z"
    }
   },
   "outputs": [
    {
     "data": {
      "text/html": [
       "<div>\n",
       "<style scoped>\n",
       "    .dataframe tbody tr th:only-of-type {\n",
       "        vertical-align: middle;\n",
       "    }\n",
       "\n",
       "    .dataframe tbody tr th {\n",
       "        vertical-align: top;\n",
       "    }\n",
       "\n",
       "    .dataframe thead th {\n",
       "        text-align: right;\n",
       "    }\n",
       "</style>\n",
       "<table border=\"1\" class=\"dataframe\">\n",
       "  <thead>\n",
       "    <tr style=\"text-align: right;\">\n",
       "      <th></th>\n",
       "      <th>index</th>\n",
       "      <th>title</th>\n",
       "      <th>topic_idx</th>\n",
       "      <th>topic</th>\n",
       "      <th>len</th>\n",
       "      <th>word_count</th>\n",
       "      <th>unique_word_count</th>\n",
       "    </tr>\n",
       "  </thead>\n",
       "  <tbody>\n",
       "    <tr>\n",
       "      <th>0</th>\n",
       "      <td>0</td>\n",
       "      <td>인천→핀란드 항공기 결항…휴가철 여행객 분통</td>\n",
       "      <td>4</td>\n",
       "      <td>세계</td>\n",
       "      <td>24</td>\n",
       "      <td>5</td>\n",
       "      <td>5</td>\n",
       "    </tr>\n",
       "    <tr>\n",
       "      <th>1</th>\n",
       "      <td>1</td>\n",
       "      <td>실리콘밸리 넘어서겠다…구글 15조원 들여 美전역 거점화</td>\n",
       "      <td>4</td>\n",
       "      <td>세계</td>\n",
       "      <td>30</td>\n",
       "      <td>6</td>\n",
       "      <td>6</td>\n",
       "    </tr>\n",
       "    <tr>\n",
       "      <th>2</th>\n",
       "      <td>2</td>\n",
       "      <td>이란 외무 긴장완화 해결책은 미국이 경제전쟁 멈추는 것</td>\n",
       "      <td>4</td>\n",
       "      <td>세계</td>\n",
       "      <td>30</td>\n",
       "      <td>8</td>\n",
       "      <td>8</td>\n",
       "    </tr>\n",
       "    <tr>\n",
       "      <th>3</th>\n",
       "      <td>3</td>\n",
       "      <td>NYT 클린턴 측근韓기업 특수관계 조명…공과 사 맞물려종합</td>\n",
       "      <td>4</td>\n",
       "      <td>세계</td>\n",
       "      <td>32</td>\n",
       "      <td>7</td>\n",
       "      <td>7</td>\n",
       "    </tr>\n",
       "    <tr>\n",
       "      <th>4</th>\n",
       "      <td>4</td>\n",
       "      <td>시진핑 트럼프에 중미 무역협상 조속 타결 희망</td>\n",
       "      <td>4</td>\n",
       "      <td>세계</td>\n",
       "      <td>25</td>\n",
       "      <td>7</td>\n",
       "      <td>7</td>\n",
       "    </tr>\n",
       "  </tbody>\n",
       "</table>\n",
       "</div>"
      ],
      "text/plain": [
       "   index                             title  topic_idx topic  len  word_count  \\\n",
       "0      0          인천→핀란드 항공기 결항…휴가철 여행객 분통          4    세계   24           5   \n",
       "1      1    실리콘밸리 넘어서겠다…구글 15조원 들여 美전역 거점화          4    세계   30           6   \n",
       "2      2    이란 외무 긴장완화 해결책은 미국이 경제전쟁 멈추는 것          4    세계   30           8   \n",
       "3      3  NYT 클린턴 측근韓기업 특수관계 조명…공과 사 맞물려종합          4    세계   32           7   \n",
       "4      4         시진핑 트럼프에 중미 무역협상 조속 타결 희망          4    세계   25           7   \n",
       "\n",
       "   unique_word_count  \n",
       "0                  5  \n",
       "1                  6  \n",
       "2                  8  \n",
       "3                  7  \n",
       "4                  7  "
      ]
     },
     "execution_count": 49,
     "metadata": {},
     "output_type": "execute_result"
    }
   ],
   "source": [
    "train2[\"len\"] = train2[\"title\"].apply(lambda x : len(x)) \n",
    "train2[\"word_count\"] = train2[\"title\"].apply(lambda x : len(x.split())) \n",
    "train2[\"unique_word_count\"] = train2[\"title\"].apply(lambda x : len(set(x.split())))\n",
    "train2.head()"
   ]
  },
  {
   "cell_type": "code",
   "execution_count": 50,
   "id": "9edfac4f",
   "metadata": {
    "ExecuteTime": {
     "end_time": "2022-04-25T01:47:19.587233Z",
     "start_time": "2022-04-25T01:47:19.530826Z"
    }
   },
   "outputs": [
    {
     "data": {
      "text/html": [
       "<div>\n",
       "<style scoped>\n",
       "    .dataframe tbody tr th:only-of-type {\n",
       "        vertical-align: middle;\n",
       "    }\n",
       "\n",
       "    .dataframe tbody tr th {\n",
       "        vertical-align: top;\n",
       "    }\n",
       "\n",
       "    .dataframe thead th {\n",
       "        text-align: right;\n",
       "    }\n",
       "</style>\n",
       "<table border=\"1\" class=\"dataframe\">\n",
       "  <thead>\n",
       "    <tr style=\"text-align: right;\">\n",
       "      <th></th>\n",
       "      <th>index</th>\n",
       "      <th>topic_idx</th>\n",
       "      <th>len</th>\n",
       "      <th>word_count</th>\n",
       "      <th>unique_word_count</th>\n",
       "    </tr>\n",
       "  </thead>\n",
       "  <tbody>\n",
       "    <tr>\n",
       "      <th>count</th>\n",
       "      <td>45654.000000</td>\n",
       "      <td>45654.000000</td>\n",
       "      <td>45654.000000</td>\n",
       "      <td>45654.000000</td>\n",
       "      <td>45654.000000</td>\n",
       "    </tr>\n",
       "    <tr>\n",
       "      <th>mean</th>\n",
       "      <td>22826.500000</td>\n",
       "      <td>3.163622</td>\n",
       "      <td>27.330552</td>\n",
       "      <td>6.588207</td>\n",
       "      <td>6.576642</td>\n",
       "    </tr>\n",
       "    <tr>\n",
       "      <th>std</th>\n",
       "      <td>13179.318932</td>\n",
       "      <td>1.932897</td>\n",
       "      <td>4.968172</td>\n",
       "      <td>1.474083</td>\n",
       "      <td>1.467776</td>\n",
       "    </tr>\n",
       "    <tr>\n",
       "      <th>min</th>\n",
       "      <td>0.000000</td>\n",
       "      <td>0.000000</td>\n",
       "      <td>4.000000</td>\n",
       "      <td>1.000000</td>\n",
       "      <td>1.000000</td>\n",
       "    </tr>\n",
       "    <tr>\n",
       "      <th>25%</th>\n",
       "      <td>11413.250000</td>\n",
       "      <td>2.000000</td>\n",
       "      <td>25.000000</td>\n",
       "      <td>6.000000</td>\n",
       "      <td>6.000000</td>\n",
       "    </tr>\n",
       "    <tr>\n",
       "      <th>50%</th>\n",
       "      <td>22826.500000</td>\n",
       "      <td>3.000000</td>\n",
       "      <td>28.000000</td>\n",
       "      <td>7.000000</td>\n",
       "      <td>7.000000</td>\n",
       "    </tr>\n",
       "    <tr>\n",
       "      <th>75%</th>\n",
       "      <td>34239.750000</td>\n",
       "      <td>5.000000</td>\n",
       "      <td>31.000000</td>\n",
       "      <td>8.000000</td>\n",
       "      <td>8.000000</td>\n",
       "    </tr>\n",
       "    <tr>\n",
       "      <th>max</th>\n",
       "      <td>45653.000000</td>\n",
       "      <td>6.000000</td>\n",
       "      <td>44.000000</td>\n",
       "      <td>13.000000</td>\n",
       "      <td>13.000000</td>\n",
       "    </tr>\n",
       "  </tbody>\n",
       "</table>\n",
       "</div>"
      ],
      "text/plain": [
       "              index     topic_idx           len    word_count  \\\n",
       "count  45654.000000  45654.000000  45654.000000  45654.000000   \n",
       "mean   22826.500000      3.163622     27.330552      6.588207   \n",
       "std    13179.318932      1.932897      4.968172      1.474083   \n",
       "min        0.000000      0.000000      4.000000      1.000000   \n",
       "25%    11413.250000      2.000000     25.000000      6.000000   \n",
       "50%    22826.500000      3.000000     28.000000      7.000000   \n",
       "75%    34239.750000      5.000000     31.000000      8.000000   \n",
       "max    45653.000000      6.000000     44.000000     13.000000   \n",
       "\n",
       "       unique_word_count  \n",
       "count       45654.000000  \n",
       "mean            6.576642  \n",
       "std             1.467776  \n",
       "min             1.000000  \n",
       "25%             6.000000  \n",
       "50%             7.000000  \n",
       "75%             8.000000  \n",
       "max            13.000000  "
      ]
     },
     "execution_count": 50,
     "metadata": {},
     "output_type": "execute_result"
    }
   ],
   "source": [
    "train2.describe()"
   ]
  },
  {
   "cell_type": "code",
   "execution_count": 51,
   "id": "d0636b90",
   "metadata": {
    "ExecuteTime": {
     "end_time": "2022-04-25T01:47:21.216304Z",
     "start_time": "2022-04-25T01:47:20.241423Z"
    }
   },
   "outputs": [
    {
     "data": {
      "text/plain": [
       "[Text(0.5, 0, '기사 제목 길이'), Text(0, 0.5, '개수')]"
      ]
     },
     "execution_count": 51,
     "metadata": {},
     "output_type": "execute_result"
    },
    {
     "data": {
      "image/png": "[encoded data removed]",
      "text/plain": [
       "<Figure size 432x288 with 1 Axes>"
      ]
     },
     "metadata": {
      "needs_background": "light"
     },
     "output_type": "display_data"
    }
   ],
   "source": [
    "# Sub plot \"len\", \"word_count\", \"unique_word_count\" 시각화 \n",
    "ax = sns.histplot(data = train2, x = 'len',shrink = 3)\n",
    "ax.set(xlabel = '기사 제목 길이', ylabel = '개수')"
   ]
  },
  {
   "cell_type": "code",
   "execution_count": 52,
   "id": "80d8addd",
   "metadata": {
    "ExecuteTime": {
     "end_time": "2022-04-25T01:47:22.718094Z",
     "start_time": "2022-04-25T01:47:21.313892Z"
    }
   },
   "outputs": [
    {
     "data": {
      "image/png": "[encoded data removed]",
      "text/plain": [
       "<Figure size 432x288 with 4 Axes>"
      ]
     },
     "metadata": {
      "needs_background": "light"
     },
     "output_type": "display_data"
    }
   ],
   "source": [
    "train2[[\"len\", \"word_count\", \"unique_word_count\"]].hist(bins = 30) \n",
    "plt.show()"
   ]
  },
  {
   "cell_type": "code",
   "execution_count": 53,
   "id": "30b0d0b3",
   "metadata": {
    "ExecuteTime": {
     "end_time": "2022-04-25T01:47:22.993773Z",
     "start_time": "2022-04-25T01:47:22.934927Z"
    },
    "scrolled": true
   },
   "outputs": [
    {
     "data": {
      "text/html": [
       "<div>\n",
       "<style scoped>\n",
       "    .dataframe tbody tr th:only-of-type {\n",
       "        vertical-align: middle;\n",
       "    }\n",
       "\n",
       "    .dataframe tbody tr th {\n",
       "        vertical-align: top;\n",
       "    }\n",
       "\n",
       "    .dataframe thead th {\n",
       "        text-align: right;\n",
       "    }\n",
       "</style>\n",
       "<table border=\"1\" class=\"dataframe\">\n",
       "  <thead>\n",
       "    <tr style=\"text-align: right;\">\n",
       "      <th></th>\n",
       "      <th>index</th>\n",
       "      <th>title</th>\n",
       "      <th>topic_idx</th>\n",
       "      <th>topic</th>\n",
       "      <th>len</th>\n",
       "      <th>word_count</th>\n",
       "      <th>unique_word_count</th>\n",
       "    </tr>\n",
       "  </thead>\n",
       "  <tbody>\n",
       "    <tr>\n",
       "      <th>0</th>\n",
       "      <td>0</td>\n",
       "      <td>인천→핀란드 항공기 결항…휴가철 여행객 분통</td>\n",
       "      <td>4</td>\n",
       "      <td>세계</td>\n",
       "      <td>24</td>\n",
       "      <td>5</td>\n",
       "      <td>5</td>\n",
       "    </tr>\n",
       "  </tbody>\n",
       "</table>\n",
       "</div>"
      ],
      "text/plain": [
       "   index                     title  topic_idx topic  len  word_count  \\\n",
       "0      0  인천→핀란드 항공기 결항…휴가철 여행객 분통          4    세계   24           5   \n",
       "\n",
       "   unique_word_count  \n",
       "0                  5  "
      ]
     },
     "execution_count": 53,
     "metadata": {},
     "output_type": "execute_result"
    }
   ],
   "source": [
    "train2.head(1)"
   ]
  },
  {
   "cell_type": "code",
   "execution_count": 54,
   "id": "e9647e67",
   "metadata": {
    "ExecuteTime": {
     "end_time": "2022-04-25T01:47:34.772169Z",
     "start_time": "2022-04-25T01:47:23.132397Z"
    }
   },
   "outputs": [
    {
     "data": {
      "text/plain": [
       "<seaborn.axisgrid.FacetGrid at 0x268b9b86dc0>"
      ]
     },
     "execution_count": 54,
     "metadata": {},
     "output_type": "execute_result"
    },
    {
     "data": {
      "image/png": "[encoded data removed]",
      "text/plain": [
       "<Figure size 940x576 with 7 Axes>"
      ]
     },
     "metadata": {
      "needs_background": "light"
     },
     "output_type": "display_data"
    }
   ],
   "source": [
    "# 문장길이 \n",
    "# displot으로 topic 별 \"len\"의 histplot 시각화하기 \n",
    "ax = sns.displot(data = train2, x = \"len\", hue = \"topic\", col = \"topic\", \\\n",
    "    col_wrap = 2, height = 2, aspect = 3, shrink = 3)\n",
    "ax.set(xlabel = '토픽 별 기사 제목 길이', ylabel = '개수')"
   ]
  },
  {
   "cell_type": "code",
   "execution_count": 55,
   "id": "f999e7b1",
   "metadata": {
    "ExecuteTime": {
     "end_time": "2022-04-25T01:48:20.229492Z",
     "start_time": "2022-04-25T01:48:12.004874Z"
    }
   },
   "outputs": [
    {
     "data": {
      "text/plain": [
       "<seaborn.axisgrid.FacetGrid at 0x268b9e50790>"
      ]
     },
     "execution_count": 55,
     "metadata": {},
     "output_type": "execute_result"
    },
    {
     "data": {
      "image/png": "[encoded data removed]",
      "text/plain": [
       "<Figure size 940x576 with 7 Axes>"
      ]
     },
     "metadata": {
      "needs_background": "light"
     },
     "output_type": "display_data"
    }
   ],
   "source": [
    "# 단어 수 \n",
    "ax = sns.displot(data = train2, x = \"word_count\", hue = \"topic\", col = \"topic\", \\\n",
    "    col_wrap = 2, height = 2, aspect = 3, shrink = 9)\n",
    "ax.set(xlabel = '토픽 별 제목 단어 개수', ylabel = '개수')"
   ]
  },
  {
   "cell_type": "code",
   "execution_count": 56,
   "id": "76e1050b",
   "metadata": {
    "ExecuteTime": {
     "end_time": "2022-04-25T01:48:46.520933Z",
     "start_time": "2022-04-25T01:48:35.807902Z"
    }
   },
   "outputs": [
    {
     "data": {
      "text/plain": [
       "<seaborn.axisgrid.FacetGrid at 0x268bafcf3d0>"
      ]
     },
     "execution_count": 56,
     "metadata": {},
     "output_type": "execute_result"
    },
    {
     "data": {
      "image/png": "[encoded data removed]",
      "text/plain": [
       "<Figure size 940x576 with 7 Axes>"
      ]
     },
     "metadata": {
      "needs_background": "light"
     },
     "output_type": "display_data"
    }
   ],
   "source": [
    "# 중복 제거 단어 수\n",
    "sns.displot(data = train2, x = \"unique_word_count\", hue = \"topic\", col = \"topic\",\\\n",
    "     col_wrap = 2, height = 2, aspect = 3, shrink = 9)"
   ]
  },
  {
   "cell_type": "markdown",
   "id": "3e085cfd",
   "metadata": {},
   "source": [
    "## 데이터 전처리\n",
    "- 자주 쓰이는 한자를 한글로 대체\n",
    "- 특수문자 제거\n",
    "- 영문자는 소문자로 통일\n",
    "- 불용어 제거\n",
    "- 한글자이지만 의미 있는 단어 추출\n",
    "- 토큰화한 뒤 [명사, 동사, 형용사, 영단어]만 남기고 제거"
   ]
  },
  {
   "cell_type": "markdown",
   "id": "bfd693ee",
   "metadata": {},
   "source": [
    "### 중복 단어 추출"
   ]
  },
  {
   "cell_type": "code",
   "execution_count": 60,
   "id": "6460df55",
   "metadata": {
    "ExecuteTime": {
     "end_time": "2022-04-25T02:00:29.674815Z",
     "start_time": "2022-04-25T02:00:29.411751Z"
    }
   },
   "outputs": [
    {
     "data": {
      "text/html": [
       "<div>\n",
       "<style scoped>\n",
       "    .dataframe tbody tr th:only-of-type {\n",
       "        vertical-align: middle;\n",
       "    }\n",
       "\n",
       "    .dataframe tbody tr th {\n",
       "        vertical-align: top;\n",
       "    }\n",
       "\n",
       "    .dataframe thead th {\n",
       "        text-align: right;\n",
       "    }\n",
       "</style>\n",
       "<table border=\"1\" class=\"dataframe\">\n",
       "  <thead>\n",
       "    <tr style=\"text-align: right;\">\n",
       "      <th></th>\n",
       "      <th>index</th>\n",
       "      <th>title</th>\n",
       "      <th>topic_idx</th>\n",
       "      <th>corpus</th>\n",
       "      <th>topic</th>\n",
       "    </tr>\n",
       "  </thead>\n",
       "  <tbody>\n",
       "    <tr>\n",
       "      <th>0</th>\n",
       "      <td>0</td>\n",
       "      <td>인천→핀란드 항공기 결항…휴가철 여행객 분통</td>\n",
       "      <td>4</td>\n",
       "      <td>인천 핀란드 항공기 결항 휴가 여행객 분통</td>\n",
       "      <td>세계</td>\n",
       "    </tr>\n",
       "  </tbody>\n",
       "</table>\n",
       "</div>"
      ],
      "text/plain": [
       "   index                     title  topic_idx                   corpus topic\n",
       "0      0  인천→핀란드 항공기 결항…휴가철 여행객 분통          4  인천 핀란드 항공기 결항 휴가 여행객 분통    세계"
      ]
     },
     "execution_count": 60,
     "metadata": {},
     "output_type": "execute_result"
    }
   ],
   "source": [
    "# 기존에 전처리 해서 저장했던 train_data2 파일 이용\n",
    "word_dup = pd.read_csv('./data/train_data2.csv')\n",
    "word_dup = word_dup.merge(df_topic)\n",
    "word_dup.head(1)"
   ]
  },
  {
   "cell_type": "code",
   "execution_count": 61,
   "id": "76bbb541",
   "metadata": {
    "ExecuteTime": {
     "end_time": "2022-04-25T02:00:34.712830Z",
     "start_time": "2022-04-25T02:00:34.447059Z"
    }
   },
   "outputs": [],
   "source": [
    "import sys\n",
    "import numpy as np\n",
    "\n",
    "topic_list = list(set(word_dup.topic))\n",
    "\n",
    "# 동적 변수 생성 코드\n",
    "\n",
    "mod = sys.modules[__name__]\n",
    "for topic in topic_list:\n",
    "    setattr(mod, 'df_{}'.format(topic), word_dup[word_dup.topic == topic])\n",
    "    setattr(mod, 'corpus_{}'.format(topic), \n",
    "           ' '.join(getattr(mod,'df_{}'.format(topic)).corpus.tolist()).split(' '))\n",
    "    setattr(mod, 'most_{}'.format(topic),\n",
    "           dict(Counter(getattr(mod,'corpus_{}'.format(topic))).most_common(100)))\n",
    "    setattr(mod, 'least_{}'.format(topic),\n",
    "           dict(list(dict(Counter(getattr(mod,'corpus_{}'.format(topic))).most_common()).items())[-100:]))"
   ]
  },
  {
   "cell_type": "code",
   "execution_count": 62,
   "id": "7796915e",
   "metadata": {
    "ExecuteTime": {
     "end_time": "2022-04-25T02:00:42.014625Z",
     "start_time": "2022-04-25T02:00:41.994711Z"
    }
   },
   "outputs": [
    {
     "data": {
      "text/plain": [
       "{'종합', '한국'}"
      ]
     },
     "execution_count": 62,
     "metadata": {},
     "output_type": "execute_result"
    }
   ],
   "source": [
    "set(most_IT과학.keys()).intersection(set(most_경제)).intersection(set(most_사회)).\\\n",
    "intersection(set(most_생활문화)).intersection(set(most_세계)).intersection(set(most_스포츠)).intersection(set(most_정치))"
   ]
  },
  {
   "cell_type": "code",
   "execution_count": 63,
   "id": "43e9682c",
   "metadata": {
    "ExecuteTime": {
     "end_time": "2022-04-25T02:00:52.680713Z",
     "start_time": "2022-04-25T02:00:52.671749Z"
    },
    "scrolled": true
   },
   "outputs": [
    {
     "name": "stdout",
     "output_type": "stream",
     "text": [
      "IT과학 뉴스와 경제 뉴스의 공통 단어 : 25개\n",
      "{'중국', '카카오', '한국', '미국', '판매', '만원', '출시', 'lg', '서비스', '시장', '전자', '내년', '올해', '국내', 'kt', '최고', '게시판', '삼성', '확대', 'sk', '기업', '사업', '돌파', '종합', '코로나'}\n",
      "\n",
      "IT과학 뉴스와 사회 뉴스의 공통 단어 : 13개\n",
      "{'확대', '개최', '게시판', '기업', '한국', '올해', '사업', '영상', '만원', 'kt', '없다', '종합', '코로나'}\n",
      "\n",
      "IT과학 뉴스와 생활문화 뉴스의 공통 단어 : 12개\n",
      "{'세계', '개최', '보다', '체험', '국제', '최고', '한국', '올해', '게시판', '없다', '종합', '코로나'}\n",
      "\n",
      "IT과학 뉴스와 세계 뉴스의 공통 단어 : 9개\n",
      "{'중국', '세계', '공개', '최고', '기업', '한국', '미국', '없다', '종합'}\n",
      "\n",
      "IT과학 뉴스와 스포츠 뉴스의 공통 단어 : 10개\n",
      "{'게임', 'sk', '최고', '한국', '삼성', '종합', 'kt', '없다', 'lg', '코로나'}\n",
      "\n",
      "IT과학 뉴스와 정치 뉴스의 공통 단어 : 8개\n",
      "{'중국', '개최', '최고', '한국', '협력', '미국', '없다', '종합'}\n",
      "\n",
      "경제 뉴스와 사회 뉴스의 공통 단어 : 17개\n",
      "{'지원', '확대', '억원', '산업', '서울', '추진', '코로나', '게시판', '대다', '기업', '한국', '올해', '사업', '만원', 'kt', '종합', '그래픽'}\n",
      "\n",
      "경제 뉴스와 생활문화 뉴스의 공통 단어 : 8개\n",
      "{'서울', '최고', '현대', '한국', '올해', '게시판', '종합', '코로나'}\n",
      "\n",
      "경제 뉴스와 세계 뉴스의 공통 단어 : 10개\n",
      "{'지원', '중국', '최대', '추진', '대다', '최고', '기업', '한국', '미국', '종합'}\n",
      "\n",
      "경제 뉴스와 스포츠 뉴스의 공통 단어 : 12개\n",
      "{'kb', '코로나', 'sk', '현대', '최고', '롯데', '한국', '삼성', '종합', 'kt', 'lg', '계약'}\n",
      "\n",
      "경제 뉴스와 정치 뉴스의 공통 단어 : 8개\n",
      "{'지원', '중국', '추진', '대다', '최고', '한국', '미국', '종합'}\n",
      "\n",
      "사회 뉴스와 생활문화 뉴스의 공통 단어 : 14개\n",
      "{'충북', '서울', '대회', '소식', '개최', '한국', '전국', '올해', '부산', '게시판', '없다', '대구', '종합', '코로나'}\n",
      "\n",
      "사회 뉴스와 세계 뉴스의 공통 단어 : 14개\n",
      "{'지원', '받다', '추진', '민주', '대다', '없다', '기업', '한국', '논란', '촉구', '정부', '조사', '경찰', '종합'}\n",
      "\n",
      "사회 뉴스와 스포츠 뉴스의 공통 단어 : 5개\n",
      "{'한국', 'kt', '없다', '종합', '코로나'}\n",
      "\n",
      "사회 뉴스와 정치 뉴스의 공통 단어 : 16개\n",
      "{'지원', '대표', '받다', '대회', '추진', '민주', '개최', '검찰', '대다', '위원장', '없다', '한국', '논란', '정부', '종합', '정책'}\n",
      "\n",
      "생활문화 뉴스와 세계 뉴스의 공통 단어 : 7개\n",
      "{'세계', '최고', '한국', '크다', '북한', '없다', '종합'}\n",
      "\n",
      "생활문화 뉴스와 스포츠 뉴스의 공통 단어 : 8개\n",
      "{'최고', '현대', '한국', '경기', '개막', '없다', '종합', '코로나'}\n",
      "\n",
      "생활문화 뉴스와 정치 뉴스의 공통 단어 : 8개\n",
      "{'대회', '개최', '최고', '한국', '내일', '북한', '없다', '종합'}\n",
      "\n",
      "세계 뉴스와 스포츠 뉴스의 공통 단어 : 6개\n",
      "{'일본', '최고', '한국', '없다', '종합', '부상'}\n",
      "\n",
      "세계 뉴스와 정치 뉴스의 공통 단어 : 30개\n",
      "{'중국', '후보', '총리', '민주', '한국', '대통령', '미국', '경제', '방문', '북한', '정부', '회의', '총선', '받다', '외교', '대화', '추진', '논란', '선거', '없다', '합의', '제재', '지원', '문제', '미사일', '대다', '최고', '장관', '논의', '종합'}\n",
      "\n",
      "스포츠 뉴스와 정치 뉴스의 공통 단어 : 4개\n",
      "{'없다', '최고', '종합', '한국'}\n",
      "\n"
     ]
    }
   ],
   "source": [
    "most_list = [most_IT과학, most_경제, most_사회, most_생활문화, most_세계, most_스포츠, most_정치]\n",
    "vname = ['IT과학 뉴스', '경제 뉴스', '사회 뉴스', '생활문화 뉴스', '세계 뉴스', '스포츠 뉴스', '정치 뉴스']\n",
    "for i in range(len(most_list)):\n",
    "    for j in range(i+1, len(most_list)):\n",
    "        print(f'{vname[i]}와 {vname[j]}의 공통 단어 : {len(set(most_list[i]).intersection(set(most_list[j])))}개')\n",
    "        print(f'{set(most_list[i]).intersection(set(most_list[j]))}')\n",
    "        print()"
   ]
  },
  {
   "cell_type": "markdown",
   "id": "16986cd6",
   "metadata": {},
   "source": [
    "### 데이터 전처리 함수화"
   ]
  },
  {
   "cell_type": "code",
   "execution_count": 5,
   "id": "39819640",
   "metadata": {
    "ExecuteTime": {
     "end_time": "2022-04-25T00:42:31.228066Z",
     "start_time": "2022-04-25T00:42:31.176667Z"
    }
   },
   "outputs": [],
   "source": [
    "# 한자 등 텍스트 대치 함수\n",
    "def preprocessing(text):\n",
    "    # 개행문자 제거\n",
    "    text = re.sub('\\n', ' ', text)\n",
    "      # 일부 한자 수정 \n",
    "    name = {'↑':\"상승\",'↓':\"하락\",'㈜':\"\",\"銀\":\"은행\",\"外人\":\"외국인\",\n",
    "            \"日\":\"일본\",\"美\":\"미국\",\"北\":\"북한\",\"英\":\"영국\",\"中\":\"중국\",\"與\":\"여당\",\"靑\":\"청와대\",\"野\":\"야당\",\"伊\":\"이탈리아\",\n",
    "            \"韓\":\"한국\",\"南\":\"한국\",\"獨\":\"독일\",\"佛\":\"프랑스\",\"檢\":\"검찰\",\"銀\":\"은행\",\"亞\":\"아시아\",\"人\":\"사람\",\"企\":\"기업\",\n",
    "            \"前\":\"이전\",\"車\":\"자동차\",\"軍\":\"군대\",\"코로나 19\":\"코로나\", \"朴\":\"박근혜\", \"文\":\"문재인\", \"安\":\"안철수\", \"展\":\"전시회\", \n",
    "            \"反\":\"반대\", \"故\":\"사망\", \"男\":\"남자\", \"女\" : \"여자\", \"硏\":\"연구\"}\n",
    "    for i, j in name.items():\n",
    "        text = text.replace(i, j)\n",
    "    # 한글, 영문만 남기고 모두 제거\n",
    "    text = re.sub('[^가-힣ㄱ-ㅎㅏ-ㅣa-zA-Z]', ' ', text)  # 숫자나 한자(一-龥)는 모델 적용한 뒤 성능을 비교해 보고 다시 작성\n",
    "    # 중복으로 생성된 공백값을 제거 \n",
    "    text = re.sub('[\\s]+', ' ', text)\n",
    "    # 영문자를 소문자로\n",
    "    text = text.lower()\n",
    "    return text\n",
    "\n",
    "def make_corpus(sentence):\n",
    "    \n",
    "    sentence = preprocessing(sentence)\n",
    "    \n",
    "    # 많이 나오지만 분석에 도움이 되지 않는 단어들 제거\n",
    "    # 한 글자 단어 중 의미있는 단어는 포함하고 나머지는 제외\n",
    "    del_list = ['같다','모든','하다', '있다', '되다', '이다', '돼다', '않다', '그렇다', '아니다', '이렇다', '그렇다', '어떻다',\n",
    "               '우리','저자','통해','무엇','대한','대해','위해','또한','이야기','지금','모두','리즘','모습','먼저','이제','제대로',\n",
    "               '얼마나','바로','이후','여러','누구','불구','동안','크게','서도','감히','로서','달리','만큼','비롯','매우','가까이',\n",
    "               '미리','어쩌면','면서','더구나','오히려','게다가','관련','어디','역시','더욱','여기','저기','거기','결코','거나','앞서',\n",
    "               '마치','경우','사이','종합','한국','내년','없다','내달','올해','앞두다','코로나'] + ['평','뇨','뤽','옵','며','꽤','록','주','봇','타','림','녀','펑','테', '단','겸','캡','압','좀','맏','텔','뽕','곤',\n",
    "                '빠','자','현','판','납','댓','완','녜','준','푼','렉','샷','데','액','옐','텐','깃','곁','볼','바','옥','백','뿐','학','웅','실','호','갠','장','빵','숱','냐','윤',\n",
    "                 '엔','즐','헛','샛','릴','관','밀','삼','융','결','맘','딜','낼','럼','승','벨','안','북','역','피','니','숄','텅','꽉','콘','탓','캣','초','겨','갱','얍','답','폴','및','하','용','붐',\n",
    "                 '건','뭐','톰','닛','란','새','석','딸','보','삑','펀','낚','퇴','딕','윌','과','죽','킴','옆','이','낙','십','궤','쿵','분','일','남',\n",
    "                 '욱','상','퀀','팬','젭','룬','숨','회','탕','캔','펠','토','둘','멸','트','팔','거','워','밸','곳','칩','컴','터','뼈','특','국','웡','펜','울','충','뮤','펄','쇄','계','령','신','별','덤','염','린','엽','숍','콕','색','번','육','확','넷','무','퍼','쾅','후',\n",
    "                 '필','런','셧','제','잡','온','탭','꺽','팸','닷','킷','기','절','탈','핵','맹','툭','옻','삭','비','전','몽','톡','슈','았','앤','읍','엮','쿨','헬','왜','익','렬','털','각','블','획','첫','폭',\n",
    "                 '처','짓','면','잭','사','치','빅','민','룸','걸','작','깅','만','왕','빙','님','칠','쑹','닥','수','뭘','덴','료','훙','녹','악','횡','앱','접','줌','여','숭','팩','뒤','랜','퓌','누','등','쉬','를','륙','포','쟁','협','저','홍','또','성','뼘','암','쇠','티','던',\n",
    "                 '환','페','떼','샹','밍','더','옷','직','슨','벼','카','쿠','멈','청','힙','질','팽','마','명','증','랬','맥','탁','숙','박','취','쇤','캐','궂','움','콩','롱','핫','늘','략','원','귀','즈','키','죄','로','조','챙','롭','함','활','삶','좌','윈','측','몬','다','낭','정','넛','팝',\n",
    "                 '의','즘','컷','램','변','핏','틴','줄','체','엄','간','루','켜','롬','행','규','셈','척','매','띤','슝','그','멍','딥','킥','음','놀','삐','푹','곡','솔','빼','권',\n",
    "                 '르','세','위','홈','길','쥴','엡','립','외','빈','몇','머','툰','채','락','류','혁','베','나','능','뻔','슛','진','앰','식','컬','룽','족','끗','찬','켄','레','웨','곽','땐','쩐','김','헤','노','량','펩','둥','틀','황','쌍','응','메','텄','맨','디','텍','뱅','봉','송','넉','년','웰','알','룰','갓',\n",
    "                 '속','펍','편','론','찌','쉑','친','휑','감','은','례','뎅','빔','태','렌','젬','짤','셀','틈','핸','칸','덜','득','몫','윅','널','짐','징','병','임','종','앗','냥','템','살','고','늦','양','뎀','솎','젤','랩','닉','릿','난','쯤','중','큐','날','링','두','소','콜','뼛','리','썸',\n",
    "                 '항','짊','점','요','셰','킹','재','스','낮','픽','껜','툴','샵','룡','률','쏠','쉰','훈','묵','듯','힐','엘','순','시','윙','꿴','동','킨','러','롯','롤','혼','얀','붕','퐁','델','팀','잔','륭','킬','샘','선','경','내','심','슬','벌','놈','얼','추','객','택','욕','겹','즌','뻥','엠','웬','댕','츠','프','팅',\n",
    "                 '오','적','덕','끌','억', '업','맵','늪','인','막','케','퀸','유','흑','브','턴','존','람','쉘','쓱','셋','섭','헌','파','휘','톤','입','효','설','월','낫','패','쾌','연','랄','팁','운','냉','샤','앞','착','도','쿡','캉','애','합','투','쭉','을','찍','버','생','뷰','휠','쪽','뚜','덧','싹','해','모','예','홀','드','젠','칙','부','에','잼'                                                                        \n",
    "                 '몹','와','션','웃','최','열','혜','어','교','캠','불','궐','는','영','망','빨','너','것','네','려','율','쏙','맷','구','쩍', 'a', 'b', 'c', 'd', 'e', 'f', 'g', 'h', 'i', 'j', 'k', 'l', 'm',\n",
    "                 'n', 'o', 'p', 'q', 'r', 's', 't', 'u', 'v', 'w', 'x', 'y', 'z']   \n",
    "    \n",
    "    # kernel dead가 뜨면 이모티콘 제거 해야함\n",
    "    tokenizer = Okt()\n",
    "    raw_pos_tagged = tokenizer.pos(sentence, norm=True, stem=True) # POS Tagging\n",
    "    word_cleaned = []\n",
    "    \n",
    "    # 명사, 형용사, 동사, 영단어만 포함 \n",
    "    for word in raw_pos_tagged: #  ('서울', 'Noun'),\n",
    "        if word[1] in ['Noun','Alpha','Adjective','Verb']: # Foreign ==\", \" 와 같이 제외되어야할 항목들\n",
    "            if word[0] not in del_list: # 한 글자로 이뤄진 단어들을 제외 & 원치 않는 단어들을 제외\n",
    "                word_cleaned.append(word[0])\n",
    "\n",
    "    return ' '.join(word_cleaned)\n"
   ]
  },
  {
   "cell_type": "code",
   "execution_count": 6,
   "id": "a604614b",
   "metadata": {
    "ExecuteTime": {
     "end_time": "2022-04-25T00:51:07.006463Z",
     "start_time": "2022-04-25T00:43:50.153819Z"
    }
   },
   "outputs": [],
   "source": [
    "train['corpus'] = train.title.apply(lambda x : make_corpus(x))\n",
    "test['corpus'] = test.title.apply(lambda x : make_corpus(x))"
   ]
  },
  {
   "cell_type": "markdown",
   "id": "6f9e7c31",
   "metadata": {},
   "source": [
    "## TF-IDF 적용"
   ]
  },
  {
   "cell_type": "code",
   "execution_count": 7,
   "id": "3492fe87",
   "metadata": {
    "ExecuteTime": {
     "end_time": "2022-04-25T00:58:21.867579Z",
     "start_time": "2022-04-25T00:58:20.408313Z"
    }
   },
   "outputs": [],
   "source": [
    "tfidf_vect = TfidfVectorizer()\n",
    "tfidf_vect.fit(train.corpus)\n",
    "X_train_tfidf = tfidf_vect.transform(train.corpus)\n",
    "X_test_tfidf = tfidf_vect.transform(test.corpus)"
   ]
  },
  {
   "cell_type": "markdown",
   "id": "e4bdb2c7",
   "metadata": {},
   "source": [
    "## 데이터 분할"
   ]
  },
  {
   "cell_type": "code",
   "execution_count": 8,
   "id": "c66e3b60",
   "metadata": {
    "ExecuteTime": {
     "end_time": "2022-04-25T00:59:07.087068Z",
     "start_time": "2022-04-25T00:59:07.079090Z"
    }
   },
   "outputs": [],
   "source": [
    "# train/valid 데이터 셋 나누기.\n",
    "def split_dataset(tfidf,df):\n",
    "    X_data = tfidf\n",
    "    y_data = df['topic_idx']\n",
    "\n",
    "    # stratify=y_data Stratified 기반 분할, train 데이터의 30%를 평가 데이터 셋으로 사용. (70% 데이터 학습에 사용)\n",
    "    X_train, X_test, y_train, y_test = \\\n",
    "    train_test_split(X_data, y_data, test_size=0.3, random_state=42, stratify=y_data)\n",
    "    X_train = X_train.astype('float32')\n",
    "    X_test = X_test.astype('float32')\n",
    "    y_train = y_train.astype('float32')\n",
    "    y_test = y_test.astype('float32')\n",
    "    \n",
    "    return (X_train, X_test, y_train, y_test)"
   ]
  },
  {
   "cell_type": "code",
   "execution_count": 9,
   "id": "8559484e",
   "metadata": {
    "ExecuteTime": {
     "end_time": "2022-04-25T00:59:09.429737Z",
     "start_time": "2022-04-25T00:59:09.365970Z"
    }
   },
   "outputs": [],
   "source": [
    "# Validation\n",
    "X_train, X_test, y_train, y_test = split_dataset(X_train_tfidf, train)"
   ]
  },
  {
   "cell_type": "markdown",
   "id": "b63c6566",
   "metadata": {},
   "source": [
    "## 모델 학습 및 예측\n",
    "- StratifiedKFold 이용\n",
    "- LinearSVC 모델 적용\n",
    "- GridSearch 적용\n",
    "\n",
    "최종 모델 :  LinearSVC( C=0.1,tol=0.1, max_iter=100, random_state=0)"
   ]
  },
  {
   "cell_type": "code",
   "execution_count": 13,
   "id": "e18b5add",
   "metadata": {
    "ExecuteTime": {
     "end_time": "2022-04-25T01:07:14.503481Z",
     "start_time": "2022-04-25T01:03:57.472706Z"
    }
   },
   "outputs": [
    {
     "name": "stdout",
     "output_type": "stream",
     "text": [
      "Fitting 5 folds for each of 36 candidates, totalling 180 fits\n"
     ]
    },
    {
     "data": {
      "text/plain": [
       "GridSearchCV(estimator=LinearSVC(),\n",
       "             param_grid={'C': [1, 0.1, 0.01], 'max_iter': [50, 100, 200],\n",
       "                         'tol': [0.01, 0.001, 0.1, 0.0001]},\n",
       "             verbose=1)"
      ]
     },
     "execution_count": 13,
     "metadata": {},
     "output_type": "execute_result"
    }
   ],
   "source": [
    "svc_clf = LinearSVC()\n",
    "\n",
    "param_grid = { \n",
    "            \"C\":[1,0.1,0.01],\n",
    "            \"tol\":[0.01, 0.001, 0.1,0.0001],\n",
    "            \"max_iter\": [50,100,200]\n",
    "              }\n",
    "\n",
    "# \"C\":[1,0.1,0.01] -> 0.1\n",
    "# \"max_iter\": [50,100,200] -> 100\n",
    "\n",
    "\n",
    "grid = GridSearchCV(svc_clf, param_grid, refit=True, verbose=1)\n",
    "\n",
    "grid.fit(X_train, y_train)"
   ]
  },
  {
   "cell_type": "code",
   "execution_count": 14,
   "id": "a97d88ec",
   "metadata": {
    "ExecuteTime": {
     "end_time": "2022-04-25T01:08:19.956019Z",
     "start_time": "2022-04-25T01:08:19.947044Z"
    }
   },
   "outputs": [
    {
     "name": "stdout",
     "output_type": "stream",
     "text": [
      "The best parameters are  {'C': 0.1, 'max_iter': 50, 'tol': 0.001}\n"
     ]
    }
   ],
   "source": [
    "print('The best parameters are ', grid.best_params_)"
   ]
  },
  {
   "cell_type": "code",
   "execution_count": 15,
   "id": "9be818ed",
   "metadata": {
    "ExecuteTime": {
     "end_time": "2022-04-25T01:09:48.745611Z",
     "start_time": "2022-04-25T01:09:42.955464Z"
    }
   },
   "outputs": [
    {
     "name": "stdout",
     "output_type": "stream",
     "text": [
      "\n",
      " max 정확도 : 0.8465357377527926\n"
     ]
    }
   ],
   "source": [
    "# {'C': 0.1, 'max_iter': 50, 'tol': 0.001}\n",
    "s_kf = StratifiedKFold(n_splits = 10, shuffle = True, random_state = 0)\n",
    "\n",
    "accuracy_ = []\n",
    "for train_index in s_kf.split(X_train,y_train):\n",
    "    \n",
    "    model = LinearSVC( C=0.1,tol=0.001, max_iter=50, random_state=0)\n",
    "    model.fit(X_train, y_train) # <- x_train_transformed (not x_train)\n",
    "    \n",
    "    y_pred = model.predict(X_test) # 예측 라벨\n",
    "    accuracy_.append(accuracy_score(y_pred, y_test)) # 정확도 측정 및 기록\n",
    "\n",
    "#print(\"각 분할의 정확도 :\", accuracy_)\n",
    "print(\"\\n max 정확도 :\", np.max(accuracy_))  "
   ]
  },
  {
   "cell_type": "code",
   "execution_count": 17,
   "id": "16a2b483",
   "metadata": {
    "ExecuteTime": {
     "end_time": "2022-04-25T01:10:22.303886Z",
     "start_time": "2022-04-25T01:10:18.054805Z"
    }
   },
   "outputs": [
    {
     "name": "stdout",
     "output_type": "stream",
     "text": [
      "\n",
      " max 정확도 : 0.8466817551288603\n"
     ]
    }
   ],
   "source": [
    "# {'C': 0.1, 'max_iter': 100, 'tol': 0.1}\n",
    "s_kf = StratifiedKFold(n_splits = 10, shuffle = True, random_state = 0)\n",
    "\n",
    "accuracy_ = []\n",
    "for train_index in s_kf.split(X_train,y_train):\n",
    "    \n",
    "    model = LinearSVC( C=0.1,tol=0.1, max_iter=100, random_state=0)\n",
    "    model.fit(X_train, y_train) # <- x_train_transformed (not x_train)\n",
    "    \n",
    "    y_pred = model.predict(X_test) # 예측 라벨\n",
    "    accuracy_.append(accuracy_score(y_pred, y_test)) # 정확도 측정 및 기록\n",
    "\n",
    "#print(\"각 분할의 정확도 :\", accuracy_)\n",
    "print(\"\\n max 정확도 :\", np.max(accuracy_))  "
   ]
  },
  {
   "cell_type": "code",
   "execution_count": 25,
   "id": "75a8a9ab",
   "metadata": {
    "ExecuteTime": {
     "end_time": "2022-04-25T01:25:24.421529Z",
     "start_time": "2022-04-25T01:25:24.112407Z"
    }
   },
   "outputs": [
    {
     "data": {
      "text/plain": [
       "0.8466817551288603"
      ]
     },
     "execution_count": 25,
     "metadata": {},
     "output_type": "execute_result"
    }
   ],
   "source": [
    "svc_clf = LinearSVC( C=0.1,tol=0.1, max_iter=100, random_state=0)\n",
    "svc_clf.fit(X_train, y_train)\n",
    "pred = svc_clf.predict(X_test)\n",
    "accuracy_score(y_test, y_pred)"
   ]
  },
  {
   "cell_type": "markdown",
   "id": "0cdc5c24",
   "metadata": {},
   "source": [
    "### 모델 저장"
   ]
  },
  {
   "cell_type": "code",
   "execution_count": 27,
   "id": "8fbdd41f",
   "metadata": {
    "ExecuteTime": {
     "end_time": "2022-04-25T01:31:16.137851Z",
     "start_time": "2022-04-25T01:31:16.110182Z"
    }
   },
   "outputs": [
    {
     "data": {
      "text/plain": [
       "['./svc_model.pkl']"
      ]
     },
     "execution_count": 27,
     "metadata": {},
     "output_type": "execute_result"
    }
   ],
   "source": [
    "joblib.dump(svc_clf, './svc_model.pkl')"
   ]
  },
  {
   "cell_type": "code",
   "execution_count": null,
   "id": "f88628b1",
   "metadata": {},
   "outputs": [],
   "source": []
  }
 ],
 "metadata": {
  "hide_input": false,
  "kernelspec": {
   "display_name": "Python 3",
   "language": "python",
   "name": "python3"
  },
  "language_info": {
   "codemirror_mode": {
    "name": "ipython",
    "version": 3
   },
   "file_extension": ".py",
   "mimetype": "text/x-python",
   "name": "python",
   "nbconvert_exporter": "python",
   "pygments_lexer": "ipython3",
   "version": "3.8.8"
  },
  "toc": {
   "base_numbering": 1,
   "nav_menu": {},
   "number_sections": true,
   "sideBar": true,
   "skip_h1_title": false,
   "title_cell": "Table of Contents",
   "title_sidebar": "Contents",
   "toc_cell": false,
   "toc_position": {},
   "toc_section_display": true,
   "toc_window_display": false
  },
  "varInspector": {
   "cols": {
    "lenName": 16,
    "lenType": 16,
    "lenVar": 40
   },
   "kernels_config": {
    "python": {
     "delete_cmd_postfix": "",
     "delete_cmd_prefix": "del ",
     "library": "var_list.py",
     "varRefreshCmd": "print(var_dic_list())"
    },
    "r": {
     "delete_cmd_postfix": ") ",
     "delete_cmd_prefix": "rm(",
     "library": "var_list.r",
     "varRefreshCmd": "cat(var_dic_list()) "
    }
   },
   "types_to_exclude": [
    "module",
    "function",
    "builtin_function_or_method",
    "instance",
    "_Feature"
   ],
   "window_display": false
  }
 },
 "nbformat": 4,
 "nbformat_minor": 5
}
